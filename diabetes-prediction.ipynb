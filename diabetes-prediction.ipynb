{
 "cells": [
  {
   "cell_type": "markdown",
   "metadata": {},
   "source": [
    "# Diabetes prediction\n",
    "#### Dataset - pima-indians-diabetes dataset\n",
    "#### Download from here - https://www.kaggle.com/kumargh/pimaindiansdiabetescsv/download\n",
    "### number of columns - 9\n",
    "### 1-8 are input features \n",
    "### 9 -  binary output i.e, 0 or 1"
   ]
  },
  {
   "cell_type": "markdown",
   "metadata": {},
   "source": [
    "### import required packages"
   ]
  },
  {
   "cell_type": "code",
   "execution_count": 2,
   "metadata": {},
   "outputs": [
    {
     "name": "stderr",
     "output_type": "stream",
     "text": [
      "Using TensorFlow backend.\n"
     ]
    }
   ],
   "source": [
    "import numpy as np\n",
    "from numpy import loadtxt\n",
    "from keras.models import Sequential\n",
    "from keras.layers import Dense\n",
    "import pandas as pd"
   ]
  },
  {
   "cell_type": "markdown",
   "metadata": {},
   "source": [
    "### load the csv file using numpy's loadtxt method"
   ]
  },
  {
   "cell_type": "code",
   "execution_count": 3,
   "metadata": {},
   "outputs": [],
   "source": [
    "data = loadtxt('pima-indians-diabetes.csv',delimiter=',')"
   ]
  },
  {
   "cell_type": "markdown",
   "metadata": {},
   "source": [
    "### split the data i.e, cols 1-8 as x and col 9 as y\n",
    "### here x is input array and y is output array"
   ]
  },
  {
   "cell_type": "code",
   "execution_count": 4,
   "metadata": {},
   "outputs": [],
   "source": [
    "x = data[:,0:8]\n",
    "y = data[:,8]"
   ]
  },
  {
   "cell_type": "markdown",
   "metadata": {},
   "source": [
    "### Sequential model with 2 hidden layers and 1 output layer"
   ]
  },
  {
   "cell_type": "code",
   "execution_count": 5,
   "metadata": {},
   "outputs": [],
   "source": [
    "model = Sequential()\n",
    "model.add(Dense(16, input_dim = 8, activation = 'relu'))\n",
    "model.add(Dense(8, activation='relu'))\n",
    "model.add(Dense(1, activation='sigmoid'))"
   ]
  },
  {
   "cell_type": "markdown",
   "metadata": {},
   "source": [
    "### Prints the summary of the model"
   ]
  },
  {
   "cell_type": "code",
   "execution_count": 6,
   "metadata": {},
   "outputs": [
    {
     "name": "stdout",
     "output_type": "stream",
     "text": [
      "Model: \"sequential_1\"\n",
      "_________________________________________________________________\n",
      "Layer (type)                 Output Shape              Param #   \n",
      "=================================================================\n",
      "dense_1 (Dense)              (None, 16)                144       \n",
      "_________________________________________________________________\n",
      "dense_2 (Dense)              (None, 8)                 136       \n",
      "_________________________________________________________________\n",
      "dense_3 (Dense)              (None, 1)                 9         \n",
      "=================================================================\n",
      "Total params: 289\n",
      "Trainable params: 289\n",
      "Non-trainable params: 0\n",
      "_________________________________________________________________\n"
     ]
    }
   ],
   "source": [
    "model.summary()"
   ]
  },
  {
   "cell_type": "markdown",
   "metadata": {},
   "source": [
    "### compile the model"
   ]
  },
  {
   "cell_type": "code",
   "execution_count": 7,
   "metadata": {},
   "outputs": [],
   "source": [
    "model.compile(loss='binary_crossentropy', optimizer='adam', metrics=['accuracy'])"
   ]
  },
  {
   "cell_type": "markdown",
   "metadata": {},
   "source": [
    "### fit the model here x,y are input and output arrays\n",
    "### epochs - iterations\n",
    "### batch_size - number of training examples in one pass"
   ]
  },
  {
   "cell_type": "code",
   "execution_count": 8,
   "metadata": {},
   "outputs": [
    {
     "name": "stdout",
     "output_type": "stream",
     "text": [
      "Epoch 1/150\n",
      "768/768 [==============================] - 0s 384us/step - loss: 2.8406 - accuracy: 0.5065\n",
      "Epoch 2/150\n",
      "768/768 [==============================] - 0s 169us/step - loss: 0.8868 - accuracy: 0.5612\n",
      "Epoch 3/150\n",
      "768/768 [==============================] - 0s 174us/step - loss: 0.8269 - accuracy: 0.5951\n",
      "Epoch 4/150\n",
      "768/768 [==============================] - 0s 164us/step - loss: 0.8284 - accuracy: 0.5924\n",
      "Epoch 5/150\n",
      "768/768 [==============================] - 0s 183us/step - loss: 0.7652 - accuracy: 0.6120\n",
      "Epoch 6/150\n",
      "768/768 [==============================] - 0s 181us/step - loss: 0.7247 - accuracy: 0.6406\n",
      "Epoch 7/150\n",
      "768/768 [==============================] - 0s 168us/step - loss: 0.7040 - accuracy: 0.6289\n",
      "Epoch 8/150\n",
      "768/768 [==============================] - 0s 169us/step - loss: 0.7020 - accuracy: 0.6380\n",
      "Epoch 9/150\n",
      "768/768 [==============================] - 0s 189us/step - loss: 0.7049 - accuracy: 0.6328\n",
      "Epoch 10/150\n",
      "768/768 [==============================] - 0s 319us/step - loss: 0.6793 - accuracy: 0.6471\n",
      "Epoch 11/150\n",
      "768/768 [==============================] - 0s 246us/step - loss: 0.6990 - accuracy: 0.6471\n",
      "Epoch 12/150\n",
      "768/768 [==============================] - 0s 184us/step - loss: 0.6606 - accuracy: 0.6602\n",
      "Epoch 13/150\n",
      "768/768 [==============================] - 0s 167us/step - loss: 0.6663 - accuracy: 0.6693\n",
      "Epoch 14/150\n",
      "768/768 [==============================] - 0s 172us/step - loss: 0.6780 - accuracy: 0.6641\n",
      "Epoch 15/150\n",
      "768/768 [==============================] - 0s 172us/step - loss: 0.6380 - accuracy: 0.6615\n",
      "Epoch 16/150\n",
      "768/768 [==============================] - 0s 224us/step - loss: 0.6557 - accuracy: 0.6615\n",
      "Epoch 17/150\n",
      "768/768 [==============================] - 0s 200us/step - loss: 0.6367 - accuracy: 0.6849\n",
      "Epoch 18/150\n",
      "768/768 [==============================] - 0s 169us/step - loss: 0.6469 - accuracy: 0.6706\n",
      "Epoch 19/150\n",
      "768/768 [==============================] - 0s 166us/step - loss: 0.6338 - accuracy: 0.6615\n",
      "Epoch 20/150\n",
      "768/768 [==============================] - 0s 164us/step - loss: 0.6205 - accuracy: 0.6771\n",
      "Epoch 21/150\n",
      "768/768 [==============================] - 0s 164us/step - loss: 0.6299 - accuracy: 0.6745\n",
      "Epoch 22/150\n",
      "768/768 [==============================] - 0s 167us/step - loss: 0.6148 - accuracy: 0.6823\n",
      "Epoch 23/150\n",
      "768/768 [==============================] - 0s 168us/step - loss: 0.6193 - accuracy: 0.6719\n",
      "Epoch 24/150\n",
      "768/768 [==============================] - 0s 163us/step - loss: 0.6098 - accuracy: 0.6771\n",
      "Epoch 25/150\n",
      "768/768 [==============================] - 0s 165us/step - loss: 0.6114 - accuracy: 0.6732\n",
      "Epoch 26/150\n",
      "768/768 [==============================] - 0s 167us/step - loss: 0.6116 - accuracy: 0.6810\n",
      "Epoch 27/150\n",
      "768/768 [==============================] - 0s 180us/step - loss: 0.6210 - accuracy: 0.6771\n",
      "Epoch 28/150\n",
      "768/768 [==============================] - 0s 166us/step - loss: 0.6340 - accuracy: 0.6693\n",
      "Epoch 29/150\n",
      "768/768 [==============================] - 0s 167us/step - loss: 0.6180 - accuracy: 0.6888\n",
      "Epoch 30/150\n",
      "768/768 [==============================] - 0s 172us/step - loss: 0.6192 - accuracy: 0.6758\n",
      "Epoch 31/150\n",
      "768/768 [==============================] - 0s 170us/step - loss: 0.5950 - accuracy: 0.6849\n",
      "Epoch 32/150\n",
      "768/768 [==============================] - 0s 168us/step - loss: 0.6047 - accuracy: 0.6966\n",
      "Epoch 33/150\n",
      "768/768 [==============================] - 0s 174us/step - loss: 0.5927 - accuracy: 0.6849\n",
      "Epoch 34/150\n",
      "768/768 [==============================] - 0s 172us/step - loss: 0.6025 - accuracy: 0.6979\n",
      "Epoch 35/150\n",
      "768/768 [==============================] - 0s 182us/step - loss: 0.5909 - accuracy: 0.7031\n",
      "Epoch 36/150\n",
      "768/768 [==============================] - 0s 166us/step - loss: 0.5882 - accuracy: 0.6888\n",
      "Epoch 37/150\n",
      "768/768 [==============================] - 0s 174us/step - loss: 0.5915 - accuracy: 0.6823\n",
      "Epoch 38/150\n",
      "768/768 [==============================] - 0s 168us/step - loss: 0.5817 - accuracy: 0.6966\n",
      "Epoch 39/150\n",
      "768/768 [==============================] - 0s 166us/step - loss: 0.5839 - accuracy: 0.7018\n",
      "Epoch 40/150\n",
      "768/768 [==============================] - 0s 173us/step - loss: 0.5975 - accuracy: 0.6888\n",
      "Epoch 41/150\n",
      "768/768 [==============================] - 0s 172us/step - loss: 0.5992 - accuracy: 0.6888\n",
      "Epoch 42/150\n",
      "768/768 [==============================] - 0s 168us/step - loss: 0.5805 - accuracy: 0.7031\n",
      "Epoch 43/150\n",
      "768/768 [==============================] - 0s 171us/step - loss: 0.5742 - accuracy: 0.7148\n",
      "Epoch 44/150\n",
      "768/768 [==============================] - 0s 174us/step - loss: 0.5956 - accuracy: 0.7096\n",
      "Epoch 45/150\n",
      "768/768 [==============================] - 0s 181us/step - loss: 0.5913 - accuracy: 0.6966\n",
      "Epoch 46/150\n",
      "768/768 [==============================] - 0s 194us/step - loss: 0.5811 - accuracy: 0.7122\n",
      "Epoch 47/150\n",
      "768/768 [==============================] - 0s 194us/step - loss: 0.5910 - accuracy: 0.7031\n",
      "Epoch 48/150\n",
      "768/768 [==============================] - 0s 174us/step - loss: 0.5898 - accuracy: 0.6979\n",
      "Epoch 49/150\n",
      "768/768 [==============================] - 0s 167us/step - loss: 0.5694 - accuracy: 0.7057\n",
      "Epoch 50/150\n",
      "768/768 [==============================] - 0s 189us/step - loss: 0.5770 - accuracy: 0.7201\n",
      "Epoch 51/150\n",
      "768/768 [==============================] - 0s 166us/step - loss: 0.5786 - accuracy: 0.7018\n",
      "Epoch 52/150\n",
      "768/768 [==============================] - 0s 212us/step - loss: 0.6362 - accuracy: 0.6888\n",
      "Epoch 53/150\n",
      "768/768 [==============================] - 0s 182us/step - loss: 0.5714 - accuracy: 0.7070\n",
      "Epoch 54/150\n",
      "768/768 [==============================] - 0s 157us/step - loss: 0.5725 - accuracy: 0.7096\n",
      "Epoch 55/150\n",
      "768/768 [==============================] - 0s 169us/step - loss: 0.5847 - accuracy: 0.7188\n",
      "Epoch 56/150\n",
      "768/768 [==============================] - 0s 166us/step - loss: 0.5827 - accuracy: 0.6927\n",
      "Epoch 57/150\n",
      "768/768 [==============================] - 0s 166us/step - loss: 0.5782 - accuracy: 0.7122\n",
      "Epoch 58/150\n",
      "768/768 [==============================] - 0s 165us/step - loss: 0.5773 - accuracy: 0.7122\n",
      "Epoch 59/150\n",
      "768/768 [==============================] - 0s 165us/step - loss: 0.5555 - accuracy: 0.7253\n",
      "Epoch 60/150\n",
      "768/768 [==============================] - 0s 175us/step - loss: 0.5830 - accuracy: 0.7122\n",
      "Epoch 61/150\n",
      "768/768 [==============================] - 0s 168us/step - loss: 0.5563 - accuracy: 0.7357\n",
      "Epoch 62/150\n",
      "768/768 [==============================] - 0s 168us/step - loss: 0.5722 - accuracy: 0.7135\n",
      "Epoch 63/150\n",
      "768/768 [==============================] - 0s 167us/step - loss: 0.5647 - accuracy: 0.7214\n",
      "Epoch 64/150\n",
      "768/768 [==============================] - 0s 191us/step - loss: 0.5572 - accuracy: 0.7201\n",
      "Epoch 65/150\n",
      "768/768 [==============================] - 0s 172us/step - loss: 0.5666 - accuracy: 0.7266\n",
      "Epoch 66/150\n",
      "768/768 [==============================] - 0s 167us/step - loss: 0.5574 - accuracy: 0.7305\n",
      "Epoch 67/150\n",
      "768/768 [==============================] - 0s 202us/step - loss: 0.5566 - accuracy: 0.7253\n",
      "Epoch 68/150\n",
      "768/768 [==============================] - 0s 219us/step - loss: 0.5734 - accuracy: 0.7148\n",
      "Epoch 69/150\n",
      "768/768 [==============================] - 0s 178us/step - loss: 0.5561 - accuracy: 0.7161\n",
      "Epoch 70/150\n",
      "768/768 [==============================] - 0s 175us/step - loss: 0.5727 - accuracy: 0.7122\n",
      "Epoch 71/150\n",
      "768/768 [==============================] - 0s 182us/step - loss: 0.5504 - accuracy: 0.7292\n",
      "Epoch 72/150\n",
      "768/768 [==============================] - 0s 217us/step - loss: 0.5490 - accuracy: 0.7240\n",
      "Epoch 73/150\n",
      "768/768 [==============================] - 0s 229us/step - loss: 0.5583 - accuracy: 0.7292\n",
      "Epoch 74/150\n",
      "768/768 [==============================] - 0s 221us/step - loss: 0.5519 - accuracy: 0.7370\n",
      "Epoch 75/150\n",
      "768/768 [==============================] - 0s 169us/step - loss: 0.5568 - accuracy: 0.7253\n",
      "Epoch 76/150\n",
      "768/768 [==============================] - 0s 166us/step - loss: 0.5595 - accuracy: 0.7161\n",
      "Epoch 77/150\n",
      "768/768 [==============================] - 0s 173us/step - loss: 0.5419 - accuracy: 0.7279\n",
      "Epoch 78/150\n",
      "768/768 [==============================] - 0s 223us/step - loss: 0.5636 - accuracy: 0.7174\n",
      "Epoch 79/150\n"
     ]
    },
    {
     "name": "stdout",
     "output_type": "stream",
     "text": [
      "768/768 [==============================] - 0s 220us/step - loss: 0.5449 - accuracy: 0.7292\n",
      "Epoch 80/150\n",
      "768/768 [==============================] - 0s 176us/step - loss: 0.5444 - accuracy: 0.7292\n",
      "Epoch 81/150\n",
      "768/768 [==============================] - 0s 170us/step - loss: 0.5550 - accuracy: 0.7227\n",
      "Epoch 82/150\n",
      "768/768 [==============================] - 0s 176us/step - loss: 0.5583 - accuracy: 0.7240\n",
      "Epoch 83/150\n",
      "768/768 [==============================] - 0s 183us/step - loss: 0.5467 - accuracy: 0.7370\n",
      "Epoch 84/150\n",
      "768/768 [==============================] - 0s 192us/step - loss: 0.5526 - accuracy: 0.7266\n",
      "Epoch 85/150\n",
      "768/768 [==============================] - 0s 190us/step - loss: 0.5396 - accuracy: 0.7305\n",
      "Epoch 86/150\n",
      "768/768 [==============================] - 0s 196us/step - loss: 0.5405 - accuracy: 0.7318\n",
      "Epoch 87/150\n",
      "768/768 [==============================] - 0s 176us/step - loss: 0.5453 - accuracy: 0.7305\n",
      "Epoch 88/150\n",
      "768/768 [==============================] - 0s 225us/step - loss: 0.5315 - accuracy: 0.7500\n",
      "Epoch 89/150\n",
      "768/768 [==============================] - 0s 205us/step - loss: 0.5470 - accuracy: 0.7448\n",
      "Epoch 90/150\n",
      "768/768 [==============================] - 0s 179us/step - loss: 0.5406 - accuracy: 0.7422\n",
      "Epoch 91/150\n",
      "768/768 [==============================] - 0s 232us/step - loss: 0.5278 - accuracy: 0.7422\n",
      "Epoch 92/150\n",
      "768/768 [==============================] - 0s 180us/step - loss: 0.5379 - accuracy: 0.7357\n",
      "Epoch 93/150\n",
      "768/768 [==============================] - 0s 176us/step - loss: 0.5320 - accuracy: 0.7344\n",
      "Epoch 94/150\n",
      "768/768 [==============================] - 0s 168us/step - loss: 0.5214 - accuracy: 0.7435\n",
      "Epoch 95/150\n",
      "768/768 [==============================] - 0s 198us/step - loss: 0.5341 - accuracy: 0.7383\n",
      "Epoch 96/150\n",
      "768/768 [==============================] - 0s 195us/step - loss: 0.5244 - accuracy: 0.7448\n",
      "Epoch 97/150\n",
      "768/768 [==============================] - 0s 176us/step - loss: 0.5236 - accuracy: 0.7422\n",
      "Epoch 98/150\n",
      "768/768 [==============================] - 0s 163us/step - loss: 0.5239 - accuracy: 0.7370\n",
      "Epoch 99/150\n",
      "768/768 [==============================] - 0s 171us/step - loss: 0.5161 - accuracy: 0.7552\n",
      "Epoch 100/150\n",
      "768/768 [==============================] - 0s 242us/step - loss: 0.5286 - accuracy: 0.7513\n",
      "Epoch 101/150\n",
      "768/768 [==============================] - 0s 180us/step - loss: 0.5147 - accuracy: 0.7526\n",
      "Epoch 102/150\n",
      "768/768 [==============================] - 0s 177us/step - loss: 0.5193 - accuracy: 0.7448\n",
      "Epoch 103/150\n",
      "768/768 [==============================] - 0s 185us/step - loss: 0.5302 - accuracy: 0.7461\n",
      "Epoch 104/150\n",
      "768/768 [==============================] - 0s 224us/step - loss: 0.5073 - accuracy: 0.7435\n",
      "Epoch 105/150\n",
      "768/768 [==============================] - 0s 227us/step - loss: 0.5174 - accuracy: 0.7448\n",
      "Epoch 106/150\n",
      "768/768 [==============================] - 0s 181us/step - loss: 0.5100 - accuracy: 0.7565\n",
      "Epoch 107/150\n",
      "768/768 [==============================] - 0s 164us/step - loss: 0.5100 - accuracy: 0.7591\n",
      "Epoch 108/150\n",
      "768/768 [==============================] - 0s 168us/step - loss: 0.5233 - accuracy: 0.7552\n",
      "Epoch 109/150\n",
      "768/768 [==============================] - 0s 166us/step - loss: 0.5055 - accuracy: 0.7409\n",
      "Epoch 110/150\n",
      "768/768 [==============================] - 0s 215us/step - loss: 0.5075 - accuracy: 0.7591\n",
      "Epoch 111/150\n",
      "768/768 [==============================] - 0s 197us/step - loss: 0.5270 - accuracy: 0.7422\n",
      "Epoch 112/150\n",
      "768/768 [==============================] - 0s 157us/step - loss: 0.5114 - accuracy: 0.7513\n",
      "Epoch 113/150\n",
      "768/768 [==============================] - 0s 170us/step - loss: 0.5104 - accuracy: 0.7578\n",
      "Epoch 114/150\n",
      "768/768 [==============================] - 0s 165us/step - loss: 0.5064 - accuracy: 0.7513\n",
      "Epoch 115/150\n",
      "768/768 [==============================] - 0s 170us/step - loss: 0.5030 - accuracy: 0.7500\n",
      "Epoch 116/150\n",
      "768/768 [==============================] - 0s 201us/step - loss: 0.5249 - accuracy: 0.7370\n",
      "Epoch 117/150\n",
      "768/768 [==============================] - 0s 251us/step - loss: 0.5073 - accuracy: 0.7448\n",
      "Epoch 118/150\n",
      "768/768 [==============================] - 0s 189us/step - loss: 0.4947 - accuracy: 0.7578\n",
      "Epoch 119/150\n",
      "768/768 [==============================] - 0s 190us/step - loss: 0.5030 - accuracy: 0.7474\n",
      "Epoch 120/150\n",
      "768/768 [==============================] - 0s 226us/step - loss: 0.5015 - accuracy: 0.7513\n",
      "Epoch 121/150\n",
      "768/768 [==============================] - 0s 240us/step - loss: 0.5003 - accuracy: 0.7487\n",
      "Epoch 122/150\n",
      "768/768 [==============================] - 0s 195us/step - loss: 0.5032 - accuracy: 0.7500\n",
      "Epoch 123/150\n",
      "768/768 [==============================] - 0s 171us/step - loss: 0.4914 - accuracy: 0.7500\n",
      "Epoch 124/150\n",
      "768/768 [==============================] - 0s 167us/step - loss: 0.4987 - accuracy: 0.7591\n",
      "Epoch 125/150\n",
      "768/768 [==============================] - 0s 166us/step - loss: 0.5012 - accuracy: 0.7695\n",
      "Epoch 126/150\n",
      "768/768 [==============================] - 0s 208us/step - loss: 0.4895 - accuracy: 0.7552\n",
      "Epoch 127/150\n",
      "768/768 [==============================] - 0s 258us/step - loss: 0.4949 - accuracy: 0.7578\n",
      "Epoch 128/150\n",
      "768/768 [==============================] - 0s 187us/step - loss: 0.5085 - accuracy: 0.7526\n",
      "Epoch 129/150\n",
      "768/768 [==============================] - 0s 172us/step - loss: 0.4992 - accuracy: 0.7539\n",
      "Epoch 130/150\n",
      "768/768 [==============================] - 0s 175us/step - loss: 0.4882 - accuracy: 0.7604\n",
      "Epoch 131/150\n",
      "768/768 [==============================] - 0s 192us/step - loss: 0.4898 - accuracy: 0.7682\n",
      "Epoch 132/150\n",
      "768/768 [==============================] - 0s 216us/step - loss: 0.4969 - accuracy: 0.7682\n",
      "Epoch 133/150\n",
      "768/768 [==============================] - 0s 209us/step - loss: 0.4998 - accuracy: 0.7695\n",
      "Epoch 134/150\n",
      "768/768 [==============================] - 0s 166us/step - loss: 0.4970 - accuracy: 0.7604\n",
      "Epoch 135/150\n",
      "768/768 [==============================] - 0s 185us/step - loss: 0.4917 - accuracy: 0.7552\n",
      "Epoch 136/150\n",
      "768/768 [==============================] - 0s 170us/step - loss: 0.5090 - accuracy: 0.7552\n",
      "Epoch 137/150\n",
      "768/768 [==============================] - 0s 173us/step - loss: 0.5001 - accuracy: 0.7591\n",
      "Epoch 138/150\n",
      "768/768 [==============================] - 0s 236us/step - loss: 0.4873 - accuracy: 0.7708\n",
      "Epoch 139/150\n",
      "768/768 [==============================] - 0s 164us/step - loss: 0.4892 - accuracy: 0.7617\n",
      "Epoch 140/150\n",
      "768/768 [==============================] - 0s 176us/step - loss: 0.5004 - accuracy: 0.7435\n",
      "Epoch 141/150\n",
      "768/768 [==============================] - 0s 181us/step - loss: 0.4848 - accuracy: 0.7656\n",
      "Epoch 142/150\n",
      "768/768 [==============================] - 0s 219us/step - loss: 0.4785 - accuracy: 0.7682\n",
      "Epoch 143/150\n",
      "768/768 [==============================] - 0s 228us/step - loss: 0.4855 - accuracy: 0.7617\n",
      "Epoch 144/150\n",
      "768/768 [==============================] - 0s 202us/step - loss: 0.4865 - accuracy: 0.7617\n",
      "Epoch 145/150\n",
      "768/768 [==============================] - 0s 169us/step - loss: 0.5022 - accuracy: 0.7591\n",
      "Epoch 146/150\n",
      "768/768 [==============================] - 0s 165us/step - loss: 0.4837 - accuracy: 0.7591\n",
      "Epoch 147/150\n",
      "768/768 [==============================] - 0s 167us/step - loss: 0.4887 - accuracy: 0.7669\n",
      "Epoch 148/150\n",
      "768/768 [==============================] - 0s 238us/step - loss: 0.4947 - accuracy: 0.7552\n",
      "Epoch 149/150\n",
      "768/768 [==============================] - 0s 217us/step - loss: 0.4746 - accuracy: 0.7734\n",
      "Epoch 150/150\n",
      "768/768 [==============================] - 0s 182us/step - loss: 0.4890 - accuracy: 0.7591\n"
     ]
    },
    {
     "data": {
      "text/plain": [
       "<keras.callbacks.callbacks.History at 0x12debbed0>"
      ]
     },
     "execution_count": 8,
     "metadata": {},
     "output_type": "execute_result"
    }
   ],
   "source": [
    "model.fit(x, y, epochs=150, batch_size=10)"
   ]
  },
  {
   "cell_type": "markdown",
   "metadata": {},
   "source": [
    "### make predictions using model.predict"
   ]
  },
  {
   "cell_type": "code",
   "execution_count": 9,
   "metadata": {},
   "outputs": [],
   "source": [
    "predictions = model.predict(x)"
   ]
  },
  {
   "cell_type": "markdown",
   "metadata": {},
   "source": [
    "### check the predicted value against actual value"
   ]
  },
  {
   "cell_type": "code",
   "execution_count": 10,
   "metadata": {},
   "outputs": [
    {
     "data": {
      "text/plain": [
       "array([0.9620757], dtype=float32)"
      ]
     },
     "execution_count": 10,
     "metadata": {},
     "output_type": "execute_result"
    }
   ],
   "source": [
    "predictions[8]"
   ]
  },
  {
   "cell_type": "code",
   "execution_count": 11,
   "metadata": {},
   "outputs": [
    {
     "data": {
      "text/plain": [
       "1.0"
      ]
     },
     "execution_count": 11,
     "metadata": {},
     "output_type": "execute_result"
    }
   ],
   "source": [
    "y[8]"
   ]
  },
  {
   "cell_type": "code",
   "execution_count": null,
   "metadata": {},
   "outputs": [],
   "source": []
  }
 ],
 "metadata": {
  "kernelspec": {
   "display_name": "Python 3",
   "language": "python",
   "name": "python3"
  },
  "language_info": {
   "codemirror_mode": {
    "name": "ipython",
    "version": 3
   },
   "file_extension": ".py",
   "mimetype": "text/x-python",
   "name": "python",
   "nbconvert_exporter": "python",
   "pygments_lexer": "ipython3",
   "version": "3.7.4"
  }
 },
 "nbformat": 4,
 "nbformat_minor": 2
}
